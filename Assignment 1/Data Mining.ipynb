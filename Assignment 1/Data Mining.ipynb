{
 "cells": [
  {
   "cell_type": "markdown",
   "metadata": {},
   "source": [
    "# Data mining"
   ]
  },
  {
   "cell_type": "markdown",
   "metadata": {},
   "source": [
    "We will use Pandas, Numpy, Scikit and matplotlib libraries for this problem:"
   ]
  },
  {
   "cell_type": "code",
   "execution_count": 1,
   "metadata": {},
   "outputs": [],
   "source": [
    "from copy import deepcopy\n",
    "from collections import Counter\n",
    "\n",
    "import pandas as pd\n",
    "import numpy as np\n",
    "import matplotlib.pyplot as plt\n",
    "\n",
    "np.set_printoptions(precision=3)\n",
    "\n",
    "from sklearn.preprocessing import StandardScaler\n",
    "\n",
    "scaler = StandardScaler()"
   ]
  },
  {
   "cell_type": "markdown",
   "metadata": {},
   "source": [
    "Load the dataset and show it's first 5 rows:"
   ]
  },
  {
   "cell_type": "code",
   "execution_count": 2,
   "metadata": {},
   "outputs": [
    {
     "data": {
      "text/html": [
       "<div>\n",
       "<style scoped>\n",
       "    .dataframe tbody tr th:only-of-type {\n",
       "        vertical-align: middle;\n",
       "    }\n",
       "\n",
       "    .dataframe tbody tr th {\n",
       "        vertical-align: top;\n",
       "    }\n",
       "\n",
       "    .dataframe thead th {\n",
       "        text-align: right;\n",
       "    }\n",
       "</style>\n",
       "<table border=\"1\" class=\"dataframe\">\n",
       "  <thead>\n",
       "    <tr style=\"text-align: right;\">\n",
       "      <th></th>\n",
       "      <th>Pos</th>\n",
       "      <th>Age</th>\n",
       "      <th>Tm</th>\n",
       "      <th>G</th>\n",
       "      <th>GS</th>\n",
       "      <th>MP</th>\n",
       "      <th>FG</th>\n",
       "      <th>FGA</th>\n",
       "      <th>FG%</th>\n",
       "      <th>3P</th>\n",
       "      <th>...</th>\n",
       "      <th>FT%</th>\n",
       "      <th>ORB</th>\n",
       "      <th>DRB</th>\n",
       "      <th>TRB</th>\n",
       "      <th>AST</th>\n",
       "      <th>STL</th>\n",
       "      <th>BLK</th>\n",
       "      <th>TOV</th>\n",
       "      <th>PF</th>\n",
       "      <th>PS/G</th>\n",
       "    </tr>\n",
       "    <tr>\n",
       "      <th>Player</th>\n",
       "      <th></th>\n",
       "      <th></th>\n",
       "      <th></th>\n",
       "      <th></th>\n",
       "      <th></th>\n",
       "      <th></th>\n",
       "      <th></th>\n",
       "      <th></th>\n",
       "      <th></th>\n",
       "      <th></th>\n",
       "      <th></th>\n",
       "      <th></th>\n",
       "      <th></th>\n",
       "      <th></th>\n",
       "      <th></th>\n",
       "      <th></th>\n",
       "      <th></th>\n",
       "      <th></th>\n",
       "      <th></th>\n",
       "      <th></th>\n",
       "      <th></th>\n",
       "    </tr>\n",
       "  </thead>\n",
       "  <tbody>\n",
       "    <tr>\n",
       "      <th>Quincy Acy</th>\n",
       "      <td>PF</td>\n",
       "      <td>25</td>\n",
       "      <td>SAC</td>\n",
       "      <td>59</td>\n",
       "      <td>29</td>\n",
       "      <td>14.8</td>\n",
       "      <td>2.0</td>\n",
       "      <td>3.6</td>\n",
       "      <td>0.556</td>\n",
       "      <td>0.3</td>\n",
       "      <td>...</td>\n",
       "      <td>0.735</td>\n",
       "      <td>1.1</td>\n",
       "      <td>2.1</td>\n",
       "      <td>3.2</td>\n",
       "      <td>0.5</td>\n",
       "      <td>0.5</td>\n",
       "      <td>0.4</td>\n",
       "      <td>0.5</td>\n",
       "      <td>1.7</td>\n",
       "      <td>5.2</td>\n",
       "    </tr>\n",
       "    <tr>\n",
       "      <th>Jordan Adams</th>\n",
       "      <td>SG</td>\n",
       "      <td>21</td>\n",
       "      <td>MEM</td>\n",
       "      <td>2</td>\n",
       "      <td>0</td>\n",
       "      <td>7.5</td>\n",
       "      <td>1.0</td>\n",
       "      <td>3.0</td>\n",
       "      <td>0.333</td>\n",
       "      <td>0.0</td>\n",
       "      <td>...</td>\n",
       "      <td>0.600</td>\n",
       "      <td>0.0</td>\n",
       "      <td>1.0</td>\n",
       "      <td>1.0</td>\n",
       "      <td>1.5</td>\n",
       "      <td>1.5</td>\n",
       "      <td>0.0</td>\n",
       "      <td>1.0</td>\n",
       "      <td>1.0</td>\n",
       "      <td>3.5</td>\n",
       "    </tr>\n",
       "    <tr>\n",
       "      <th>Steven Adams</th>\n",
       "      <td>C</td>\n",
       "      <td>22</td>\n",
       "      <td>OKC</td>\n",
       "      <td>80</td>\n",
       "      <td>80</td>\n",
       "      <td>25.2</td>\n",
       "      <td>3.3</td>\n",
       "      <td>5.3</td>\n",
       "      <td>0.613</td>\n",
       "      <td>0.0</td>\n",
       "      <td>...</td>\n",
       "      <td>0.582</td>\n",
       "      <td>2.7</td>\n",
       "      <td>3.9</td>\n",
       "      <td>6.7</td>\n",
       "      <td>0.8</td>\n",
       "      <td>0.5</td>\n",
       "      <td>1.1</td>\n",
       "      <td>1.1</td>\n",
       "      <td>2.8</td>\n",
       "      <td>8.0</td>\n",
       "    </tr>\n",
       "    <tr>\n",
       "      <th>Arron Afflalo</th>\n",
       "      <td>SG</td>\n",
       "      <td>30</td>\n",
       "      <td>NYK</td>\n",
       "      <td>71</td>\n",
       "      <td>57</td>\n",
       "      <td>33.4</td>\n",
       "      <td>5.0</td>\n",
       "      <td>11.3</td>\n",
       "      <td>0.443</td>\n",
       "      <td>1.3</td>\n",
       "      <td>...</td>\n",
       "      <td>0.840</td>\n",
       "      <td>0.3</td>\n",
       "      <td>3.4</td>\n",
       "      <td>3.7</td>\n",
       "      <td>2.0</td>\n",
       "      <td>0.4</td>\n",
       "      <td>0.1</td>\n",
       "      <td>1.2</td>\n",
       "      <td>2.0</td>\n",
       "      <td>12.8</td>\n",
       "    </tr>\n",
       "    <tr>\n",
       "      <th>Alexis Ajinca</th>\n",
       "      <td>C</td>\n",
       "      <td>27</td>\n",
       "      <td>NOP</td>\n",
       "      <td>59</td>\n",
       "      <td>17</td>\n",
       "      <td>14.6</td>\n",
       "      <td>2.5</td>\n",
       "      <td>5.3</td>\n",
       "      <td>0.476</td>\n",
       "      <td>0.0</td>\n",
       "      <td>...</td>\n",
       "      <td>0.839</td>\n",
       "      <td>1.3</td>\n",
       "      <td>3.3</td>\n",
       "      <td>4.6</td>\n",
       "      <td>0.5</td>\n",
       "      <td>0.3</td>\n",
       "      <td>0.6</td>\n",
       "      <td>0.9</td>\n",
       "      <td>2.3</td>\n",
       "      <td>6.0</td>\n",
       "    </tr>\n",
       "  </tbody>\n",
       "</table>\n",
       "<p>5 rows × 28 columns</p>\n",
       "</div>"
      ],
      "text/plain": [
       "              Pos  Age   Tm   G  GS    MP   FG   FGA    FG%   3P  ...     FT%  \\\n",
       "Player                                                            ...           \n",
       "Quincy Acy     PF   25  SAC  59  29  14.8  2.0   3.6  0.556  0.3  ...   0.735   \n",
       "Jordan Adams   SG   21  MEM   2   0   7.5  1.0   3.0  0.333  0.0  ...   0.600   \n",
       "Steven Adams    C   22  OKC  80  80  25.2  3.3   5.3  0.613  0.0  ...   0.582   \n",
       "Arron Afflalo  SG   30  NYK  71  57  33.4  5.0  11.3  0.443  1.3  ...   0.840   \n",
       "Alexis Ajinca   C   27  NOP  59  17  14.6  2.5   5.3  0.476  0.0  ...   0.839   \n",
       "\n",
       "               ORB  DRB  TRB  AST  STL  BLK  TOV   PF  PS/G  \n",
       "Player                                                       \n",
       "Quincy Acy     1.1  2.1  3.2  0.5  0.5  0.4  0.5  1.7   5.2  \n",
       "Jordan Adams   0.0  1.0  1.0  1.5  1.5  0.0  1.0  1.0   3.5  \n",
       "Steven Adams   2.7  3.9  6.7  0.8  0.5  1.1  1.1  2.8   8.0  \n",
       "Arron Afflalo  0.3  3.4  3.7  2.0  0.4  0.1  1.2  2.0  12.8  \n",
       "Alexis Ajinca  1.3  3.3  4.6  0.5  0.3  0.6  0.9  2.3   6.0  \n",
       "\n",
       "[5 rows x 28 columns]"
      ]
     },
     "execution_count": 2,
     "metadata": {},
     "output_type": "execute_result"
    }
   ],
   "source": [
    "data = pd.read_csv(\"NBAstats.csv\", index_col=\"Player\")\n",
    "data.head()"
   ]
  },
  {
   "cell_type": "markdown",
   "metadata": {},
   "source": [
    "## Problem 1"
   ]
  },
  {
   "cell_type": "markdown",
   "metadata": {},
   "source": [
    "<i>The dataset provided for this problem NBAstats.csv is stats from NBA players. The players are indexed by their names, and they are labeled by 5 different positions: {center (C), power forward (PF), small forward (SF), shooting guard (SG), point guard (PG)} and there are 27 attributes, e.g., age, team, games, games started, minutes played and so on (that makes total of 29 columns in the data matrix). Make sure that you standardize the data (zero-mean and standard deviation = 1) before you analyze the data.</i>"
   ]
  },
  {
   "cell_type": "markdown",
   "metadata": {},
   "source": [
    "<i>1. Write a function cluster = mykmeans(X, k) that clusters data X ∈ Rn×p (n number of objects and p number of attributes) into k clusters.</i>"
   ]
  },
  {
   "cell_type": "markdown",
   "metadata": {},
   "source": [
    "Implementation of k-means algorithm:"
   ]
  },
  {
   "cell_type": "code",
   "execution_count": 3,
   "metadata": {},
   "outputs": [],
   "source": [
    "def mykmeans(X, k):\n",
    "    # Choose k random points from the dataset as inital centroids\n",
    "    centroids = X[np.random.randint(len(X), size=k)]\n",
    "    # Array for storing previous centroids\n",
    "    centroids_old = np.zeros(centroids.shape)\n",
    "    # Array for clusters\n",
    "    clusters = np.zeros(len(X), dtype=np.int8)\n",
    "    # Loop untill centers stop changing\n",
    "    while np.linalg.norm(centroids - centroids_old) > 0.0001:\n",
    "        for i in range(len(X)):\n",
    "            # calculate distances between the datapoint and centroids\n",
    "            distances = np.linalg.norm(X[i]-centroids, axis=1)\n",
    "            # Asign datapoint to cluster\n",
    "            clusters[i] = np.argmin(distances)\n",
    "        # Save previous centroids\n",
    "        centroids_old = deepcopy(centroids)\n",
    "        # Update centroids\n",
    "        for i in range(k):\n",
    "            points = np.array([X[j] for j in range(len(X)) if clusters[j] == i])\n",
    "            centroids[i] = np.mean(points, axis=0)\n",
    "    return clusters, centroids"
   ]
  },
  {
   "cell_type": "markdown",
   "metadata": {},
   "source": [
    "Create a new dataset that contains all columns except \"Tm\" and \"Pos\":"
   ]
  },
  {
   "cell_type": "code",
   "execution_count": 4,
   "metadata": {},
   "outputs": [
    {
     "data": {
      "text/html": [
       "<div>\n",
       "<style scoped>\n",
       "    .dataframe tbody tr th:only-of-type {\n",
       "        vertical-align: middle;\n",
       "    }\n",
       "\n",
       "    .dataframe tbody tr th {\n",
       "        vertical-align: top;\n",
       "    }\n",
       "\n",
       "    .dataframe thead th {\n",
       "        text-align: right;\n",
       "    }\n",
       "</style>\n",
       "<table border=\"1\" class=\"dataframe\">\n",
       "  <thead>\n",
       "    <tr style=\"text-align: right;\">\n",
       "      <th></th>\n",
       "      <th>Age</th>\n",
       "      <th>G</th>\n",
       "      <th>GS</th>\n",
       "      <th>MP</th>\n",
       "      <th>FG</th>\n",
       "      <th>FGA</th>\n",
       "      <th>FG%</th>\n",
       "      <th>3P</th>\n",
       "      <th>3PA</th>\n",
       "      <th>3P%</th>\n",
       "      <th>...</th>\n",
       "      <th>FT%</th>\n",
       "      <th>ORB</th>\n",
       "      <th>DRB</th>\n",
       "      <th>TRB</th>\n",
       "      <th>AST</th>\n",
       "      <th>STL</th>\n",
       "      <th>BLK</th>\n",
       "      <th>TOV</th>\n",
       "      <th>PF</th>\n",
       "      <th>PS/G</th>\n",
       "    </tr>\n",
       "    <tr>\n",
       "      <th>Player</th>\n",
       "      <th></th>\n",
       "      <th></th>\n",
       "      <th></th>\n",
       "      <th></th>\n",
       "      <th></th>\n",
       "      <th></th>\n",
       "      <th></th>\n",
       "      <th></th>\n",
       "      <th></th>\n",
       "      <th></th>\n",
       "      <th></th>\n",
       "      <th></th>\n",
       "      <th></th>\n",
       "      <th></th>\n",
       "      <th></th>\n",
       "      <th></th>\n",
       "      <th></th>\n",
       "      <th></th>\n",
       "      <th></th>\n",
       "      <th></th>\n",
       "      <th></th>\n",
       "    </tr>\n",
       "  </thead>\n",
       "  <tbody>\n",
       "    <tr>\n",
       "      <th>Quincy Acy</th>\n",
       "      <td>25</td>\n",
       "      <td>59</td>\n",
       "      <td>29</td>\n",
       "      <td>14.8</td>\n",
       "      <td>2.0</td>\n",
       "      <td>3.6</td>\n",
       "      <td>0.556</td>\n",
       "      <td>0.3</td>\n",
       "      <td>0.8</td>\n",
       "      <td>0.388</td>\n",
       "      <td>...</td>\n",
       "      <td>0.735</td>\n",
       "      <td>1.1</td>\n",
       "      <td>2.1</td>\n",
       "      <td>3.2</td>\n",
       "      <td>0.5</td>\n",
       "      <td>0.5</td>\n",
       "      <td>0.4</td>\n",
       "      <td>0.5</td>\n",
       "      <td>1.7</td>\n",
       "      <td>5.2</td>\n",
       "    </tr>\n",
       "    <tr>\n",
       "      <th>Jordan Adams</th>\n",
       "      <td>21</td>\n",
       "      <td>2</td>\n",
       "      <td>0</td>\n",
       "      <td>7.5</td>\n",
       "      <td>1.0</td>\n",
       "      <td>3.0</td>\n",
       "      <td>0.333</td>\n",
       "      <td>0.0</td>\n",
       "      <td>0.5</td>\n",
       "      <td>0.000</td>\n",
       "      <td>...</td>\n",
       "      <td>0.600</td>\n",
       "      <td>0.0</td>\n",
       "      <td>1.0</td>\n",
       "      <td>1.0</td>\n",
       "      <td>1.5</td>\n",
       "      <td>1.5</td>\n",
       "      <td>0.0</td>\n",
       "      <td>1.0</td>\n",
       "      <td>1.0</td>\n",
       "      <td>3.5</td>\n",
       "    </tr>\n",
       "    <tr>\n",
       "      <th>Steven Adams</th>\n",
       "      <td>22</td>\n",
       "      <td>80</td>\n",
       "      <td>80</td>\n",
       "      <td>25.2</td>\n",
       "      <td>3.3</td>\n",
       "      <td>5.3</td>\n",
       "      <td>0.613</td>\n",
       "      <td>0.0</td>\n",
       "      <td>0.0</td>\n",
       "      <td>0.000</td>\n",
       "      <td>...</td>\n",
       "      <td>0.582</td>\n",
       "      <td>2.7</td>\n",
       "      <td>3.9</td>\n",
       "      <td>6.7</td>\n",
       "      <td>0.8</td>\n",
       "      <td>0.5</td>\n",
       "      <td>1.1</td>\n",
       "      <td>1.1</td>\n",
       "      <td>2.8</td>\n",
       "      <td>8.0</td>\n",
       "    </tr>\n",
       "    <tr>\n",
       "      <th>Arron Afflalo</th>\n",
       "      <td>30</td>\n",
       "      <td>71</td>\n",
       "      <td>57</td>\n",
       "      <td>33.4</td>\n",
       "      <td>5.0</td>\n",
       "      <td>11.3</td>\n",
       "      <td>0.443</td>\n",
       "      <td>1.3</td>\n",
       "      <td>3.4</td>\n",
       "      <td>0.382</td>\n",
       "      <td>...</td>\n",
       "      <td>0.840</td>\n",
       "      <td>0.3</td>\n",
       "      <td>3.4</td>\n",
       "      <td>3.7</td>\n",
       "      <td>2.0</td>\n",
       "      <td>0.4</td>\n",
       "      <td>0.1</td>\n",
       "      <td>1.2</td>\n",
       "      <td>2.0</td>\n",
       "      <td>12.8</td>\n",
       "    </tr>\n",
       "    <tr>\n",
       "      <th>Alexis Ajinca</th>\n",
       "      <td>27</td>\n",
       "      <td>59</td>\n",
       "      <td>17</td>\n",
       "      <td>14.6</td>\n",
       "      <td>2.5</td>\n",
       "      <td>5.3</td>\n",
       "      <td>0.476</td>\n",
       "      <td>0.0</td>\n",
       "      <td>0.0</td>\n",
       "      <td>0.000</td>\n",
       "      <td>...</td>\n",
       "      <td>0.839</td>\n",
       "      <td>1.3</td>\n",
       "      <td>3.3</td>\n",
       "      <td>4.6</td>\n",
       "      <td>0.5</td>\n",
       "      <td>0.3</td>\n",
       "      <td>0.6</td>\n",
       "      <td>0.9</td>\n",
       "      <td>2.3</td>\n",
       "      <td>6.0</td>\n",
       "    </tr>\n",
       "  </tbody>\n",
       "</table>\n",
       "<p>5 rows × 26 columns</p>\n",
       "</div>"
      ],
      "text/plain": [
       "               Age   G  GS    MP   FG   FGA    FG%   3P  3PA    3P%  ...   \\\n",
       "Player                                                               ...    \n",
       "Quincy Acy      25  59  29  14.8  2.0   3.6  0.556  0.3  0.8  0.388  ...    \n",
       "Jordan Adams    21   2   0   7.5  1.0   3.0  0.333  0.0  0.5  0.000  ...    \n",
       "Steven Adams    22  80  80  25.2  3.3   5.3  0.613  0.0  0.0  0.000  ...    \n",
       "Arron Afflalo   30  71  57  33.4  5.0  11.3  0.443  1.3  3.4  0.382  ...    \n",
       "Alexis Ajinca   27  59  17  14.6  2.5   5.3  0.476  0.0  0.0  0.000  ...    \n",
       "\n",
       "                 FT%  ORB  DRB  TRB  AST  STL  BLK  TOV   PF  PS/G  \n",
       "Player                                                              \n",
       "Quincy Acy     0.735  1.1  2.1  3.2  0.5  0.5  0.4  0.5  1.7   5.2  \n",
       "Jordan Adams   0.600  0.0  1.0  1.0  1.5  1.5  0.0  1.0  1.0   3.5  \n",
       "Steven Adams   0.582  2.7  3.9  6.7  0.8  0.5  1.1  1.1  2.8   8.0  \n",
       "Arron Afflalo  0.840  0.3  3.4  3.7  2.0  0.4  0.1  1.2  2.0  12.8  \n",
       "Alexis Ajinca  0.839  1.3  3.3  4.6  0.5  0.3  0.6  0.9  2.3   6.0  \n",
       "\n",
       "[5 rows x 26 columns]"
      ]
     },
     "execution_count": 4,
     "metadata": {},
     "output_type": "execute_result"
    }
   ],
   "source": [
    "cols = list(data.columns)\n",
    "cols.remove('Tm')\n",
    "cols.remove('Pos')\n",
    "data1 = data[cols]\n",
    "data1.head()"
   ]
  },
  {
   "cell_type": "markdown",
   "metadata": {},
   "source": [
    "Standardize the data before analyzis:"
   ]
  },
  {
   "cell_type": "code",
   "execution_count": 5,
   "metadata": {},
   "outputs": [],
   "source": [
    "data1_scaled = scaler.fit_transform(data1)"
   ]
  },
  {
   "cell_type": "markdown",
   "metadata": {},
   "source": [
    "<i>2. For this problem, use all features except team. Use your code to group the players into k = {3,5} clusters. Report the centers found for each clusters for each k, distribution of positions in each cluster and your brief observation.</i>"
   ]
  },
  {
   "cell_type": "markdown",
   "metadata": {},
   "source": [
    "Now we can try to group the players into 3 and 5 clusters:"
   ]
  },
  {
   "cell_type": "code",
   "execution_count": 6,
   "metadata": {},
   "outputs": [],
   "source": [
    "clusters1_3, centroids1_3 = mykmeans(data1_scaled, 3)\n",
    "clusters1_5, centroids1_5 = mykmeans(data1_scaled, 5)"
   ]
  },
  {
   "cell_type": "markdown",
   "metadata": {},
   "source": [
    "Lets take a look at centroids:"
   ]
  },
  {
   "cell_type": "code",
   "execution_count": 7,
   "metadata": {},
   "outputs": [
    {
     "name": "stdout",
     "output_type": "stream",
     "text": [
      "3 centroids:\n",
      " [[-0.055 -0.957 -0.772 -1.06  -0.937 -0.914 -0.342 -0.547 -0.553 -0.287\n",
      "  -0.863 -0.857 -0.323 -0.374 -0.707 -0.713 -0.332 -0.557 -0.822 -0.783\n",
      "  -0.59  -0.744 -0.496 -0.791 -0.941 -0.914]\n",
      " [-0.121  0.619  1.315  1.316  1.506  1.493  0.208  0.699  0.728  0.249\n",
      "   1.465  1.494  0.153  0.156  1.391  1.379  0.273  0.647  1.144  1.047\n",
      "   1.113  1.127  0.714  1.37   0.876  1.505]\n",
      " [ 0.1    0.443 -0.033  0.189  0.003 -0.009  0.164  0.088  0.079  0.103\n",
      "  -0.034 -0.053  0.176  0.214 -0.119 -0.11   0.126  0.121  0.087  0.104\n",
      "  -0.077  0.035  0.042 -0.044  0.307 -0.014]]\n",
      "5 centroids:\n",
      " [[-0.033  0.632  1.27   1.347  1.481  1.578 -0.028  1.261  1.287  0.542\n",
      "   1.209  1.302  0.025  0.095  1.477  1.338  0.497 -0.042  0.69   0.491\n",
      "   1.469  1.308  0.012  1.503  0.644  1.576]\n",
      " [-0.648 -2.027 -0.873 -1.321 -1.337 -1.104 -3.631 -0.493 -0.465 -0.63\n",
      "  -1.348 -1.142 -4.212 -3.818 -1.024 -1.054 -3.211 -0.706 -1.228 -1.133\n",
      "  -0.72  -0.666 -0.873 -1.258 -1.275 -1.268]\n",
      " [-0.205  0.555  0.881  0.721  0.748  0.478  0.881 -0.744 -0.789 -0.637\n",
      "   1.168  1.02   0.544  0.449  0.513  0.761 -0.316  1.935  1.526  1.744\n",
      "  -0.13   0.181  1.794  0.407  1.149  0.569]\n",
      " [ 0.166  0.419 -0.174  0.131 -0.073 -0.028 -0.055  0.255  0.27   0.328\n",
      "  -0.191 -0.177  0.048  0.116 -0.203 -0.231  0.242 -0.214 -0.113 -0.15\n",
      "  -0.035  0.045 -0.249 -0.076  0.15  -0.067]\n",
      " [-0.054 -0.919 -0.77  -1.067 -0.915 -0.919 -0.09  -0.612 -0.626 -0.36\n",
      "  -0.811 -0.825 -0.068 -0.163 -0.688 -0.683 -0.234 -0.483 -0.782 -0.731\n",
      "  -0.629 -0.765 -0.406 -0.79  -0.901 -0.902]]\n"
     ]
    }
   ],
   "source": [
    "print('3 centroids:\\n', centroids1_3)\n",
    "print('5 centroids:\\n', centroids1_5)"
   ]
  },
  {
   "cell_type": "markdown",
   "metadata": {},
   "source": [
    "Because initial centroids are chosen by random, the k-means algorithm can be impacted by randomness. To check it, we can just run it a few more times and take a look at centroids:"
   ]
  },
  {
   "cell_type": "code",
   "execution_count": 8,
   "metadata": {},
   "outputs": [
    {
     "name": "stdout",
     "output_type": "stream",
     "text": [
      "3 centroids (1):\n",
      " [[ 0.018 -0.447 -0.623 -0.659 -0.667 -0.61  -0.412 -0.211 -0.202  0.058\n",
      "  -0.687 -0.661 -0.317 -0.32  -0.558 -0.582 -0.051 -0.567 -0.647 -0.658\n",
      "  -0.357 -0.485 -0.49  -0.528 -0.618 -0.641]\n",
      " [-0.04   0.276  0.054 -0.007 -0.044 -0.26   1.014 -0.745 -0.797 -0.764\n",
      "   0.248  0.095  0.748  0.651 -0.063  0.095 -0.359  1.105  0.559  0.769\n",
      "  -0.427 -0.202  0.853 -0.175  0.548 -0.139]\n",
      " [-0.003  0.614  1.096  1.206  1.246  1.299  0.015  0.924  0.944  0.447\n",
      "   1.072  1.134  0.035  0.11   1.062  0.991  0.353  0.232  0.774  0.642\n",
      "   0.958  1.029  0.274  1.088  0.729  1.268]]\n",
      "3 centroids (2):\n",
      " [[ 0.016 -0.439 -0.621 -0.647 -0.658 -0.604 -0.378 -0.201 -0.192  0.049\n",
      "  -0.681 -0.657 -0.282 -0.285 -0.554 -0.577 -0.066 -0.567 -0.645 -0.657\n",
      "  -0.347 -0.475 -0.489 -0.524 -0.609 -0.632]\n",
      " [-0.016  0.635  1.122  1.208  1.27   1.32   0.025  0.918  0.944  0.434\n",
      "   1.102  1.16   0.053  0.111  1.11   1.038  0.389  0.231  0.791  0.654\n",
      "   0.998  1.059  0.24   1.138  0.693  1.296]\n",
      " [-0.02   0.289  0.11   0.062  0.006 -0.202  0.95  -0.709 -0.768 -0.711\n",
      "   0.292  0.153  0.663  0.593 -0.05   0.108 -0.351  1.166  0.618  0.831\n",
      "  -0.439 -0.186  0.951 -0.164  0.654 -0.096]]\n",
      "5 centroids (1):\n",
      " [[-0.083  0.643  1.309  1.377  1.532  1.658 -0.077  1.356  1.41   0.491\n",
      "   1.231  1.338 -0.005  0.047  1.581  1.411  0.533 -0.071  0.621  0.429\n",
      "   1.579  1.404 -0.036  1.577  0.61   1.65 ]\n",
      " [ 0.199  0.45  -0.106  0.265  0.024  0.104 -0.191  0.515  0.53   0.519\n",
      "  -0.183 -0.15  -0.033  0.095 -0.156 -0.196  0.302 -0.376 -0.134 -0.218\n",
      "   0.093  0.139 -0.363  0.02   0.132  0.047]\n",
      " [-0.232  0.654  1.258  1.084  1.258  0.984  0.764 -0.598 -0.626 -0.277\n",
      "   1.701  1.573  0.466  0.368  0.975  1.229 -0.156  2.04   1.985  2.115\n",
      "   0.161  0.506  1.995  0.883  1.327  1.065]\n",
      " [-0.007  0.025 -0.198 -0.315 -0.29  -0.484  1.055 -0.865 -0.914 -0.953\n",
      "   0.014 -0.124  0.778  0.633 -0.26  -0.152 -0.421  0.798  0.198  0.405\n",
      "  -0.533 -0.407  0.637 -0.403  0.288 -0.378]\n",
      " [-0.106 -1.032 -0.79  -1.116 -0.991 -0.944 -0.598 -0.546 -0.552 -0.179\n",
      "  -0.925 -0.895 -0.556 -0.61  -0.743 -0.757 -0.303 -0.638 -0.88  -0.853\n",
      "  -0.61  -0.756 -0.563 -0.827 -1.021 -0.962]]\n",
      "5 centroids (2):\n",
      " [[-0.178  0.548  0.859  0.708  0.74   0.47   0.885 -0.748 -0.792 -0.653\n",
      "   1.161  1.011  0.547  0.452  0.511  0.761 -0.324  1.905  1.509  1.722\n",
      "  -0.13   0.187  1.769  0.404  1.151  0.562]\n",
      " [-0.452 -1.348 -0.84  -1.152 -1.044 -0.938 -1.206 -0.532 -0.517 -0.129\n",
      "  -0.992 -0.906 -1.272 -1.204 -0.738 -0.737 -0.605 -0.676 -0.94  -0.909\n",
      "  -0.609 -0.713 -0.622 -0.875 -1.107 -0.997]\n",
      " [ 0.248 -0.298 -0.594 -0.799 -0.687 -0.776  0.559 -0.611 -0.65  -0.431\n",
      "  -0.548 -0.632  0.578  0.429 -0.575 -0.58  -0.067 -0.164 -0.499 -0.419\n",
      "  -0.574 -0.668 -0.169 -0.625 -0.485 -0.709]\n",
      " [-0.076  0.615  1.297  1.386  1.56   1.672 -0.051  1.273  1.323  0.52\n",
      "   1.296  1.402  0.006  0.05   1.624  1.476  0.51  -0.008  0.736  0.535\n",
      "   1.587  1.398  0.06   1.617  0.672  1.67 ]\n",
      " [ 0.143  0.465 -0.035  0.352  0.085  0.175 -0.22   0.555  0.578  0.503\n",
      "  -0.13  -0.085 -0.075  0.046 -0.116 -0.152  0.289 -0.338 -0.078 -0.165\n",
      "   0.122  0.218 -0.335  0.059  0.198  0.105]]\n"
     ]
    }
   ],
   "source": [
    "clusters1_3, centroids1_3 = mykmeans(data1_scaled, 3)\n",
    "print('3 centroids (1):\\n', centroids1_3)\n",
    "clusters1_3, centroids1_3 = mykmeans(data1_scaled, 3)\n",
    "print('3 centroids (2):\\n', centroids1_3)\n",
    "clusters1_5, centroids1_5 = mykmeans(data1_scaled, 5)\n",
    "print('5 centroids (1):\\n', centroids1_5)\n",
    "clusters1_5, centroids1_5 = mykmeans(data1_scaled, 5)\n",
    "print('5 centroids (2):\\n', centroids1_5)"
   ]
  },
  {
   "cell_type": "markdown",
   "metadata": {},
   "source": [
    "Because of randomness involved in initiation of centroids in k-means algorithm, we can get different centroids each time we use this algorithm. To measure impact of random, we can run the k-means a few times and then calculate average minimal distance between centroids from different runs. The greater the influence of randomness, the greater the distance between centroids will be."
   ]
  },
  {
   "cell_type": "code",
   "execution_count": 9,
   "metadata": {},
   "outputs": [],
   "source": [
    "def test_kmeans(X, k, trials):\n",
    "    centroids1 = mykmeans(X, k)[1]\n",
    "    dist_sum = 0\n",
    "    for i in range(trials):\n",
    "        centroids = mykmeans(X, k)[1]\n",
    "        distances = [np.linalg.norm(np.concatenate((centroids[j:], centroids[0:j])), axis=1).mean() for j in range(k)]\n",
    "        dist_sum += min(distances)\n",
    "    return dist_sum/trials"
   ]
  },
  {
   "cell_type": "code",
   "execution_count": 10,
   "metadata": {},
   "outputs": [
    {
     "data": {
      "text/plain": [
       "3.3738452634704053"
      ]
     },
     "execution_count": 10,
     "metadata": {},
     "output_type": "execute_result"
    }
   ],
   "source": [
    "test_kmeans(data1_scaled, 3, 20)"
   ]
  },
  {
   "cell_type": "code",
   "execution_count": 11,
   "metadata": {},
   "outputs": [
    {
     "data": {
      "text/plain": [
       "4.015210357188101"
      ]
     },
     "execution_count": 11,
     "metadata": {},
     "output_type": "execute_result"
    }
   ],
   "source": [
    "test_kmeans(data1_scaled, 5, 20)"
   ]
  },
  {
   "cell_type": "markdown",
   "metadata": {},
   "source": [
    "It's easy to see that we keep getting different centroids each time we run the k-means, so in this case there is huge impact of random. From this we can conclude that the given dataset can not be clusterized well. The reason of this can be that dataset contains redundant fetures which create noise in the data."
   ]
  },
  {
   "cell_type": "markdown",
   "metadata": {},
   "source": [
    "<i>3. Some of the attributes are perhaps redundant in terms of Linear Algebra. Report which ones are redundant and explain why.</i>"
   ]
  },
  {
   "cell_type": "markdown",
   "metadata": {},
   "source": [
    "To analyze impact of attributes on clusterization, we can use univariate selection to find those features that have the strongest relationship with the clusterization that we want to achieve. In this case, we want to divide players into clusters and compare those clusters to positions of players.\n",
    "To perform univariate selection, we can use SelectKBest class from scikit-learn."
   ]
  },
  {
   "cell_type": "code",
   "execution_count": 12,
   "metadata": {},
   "outputs": [
    {
     "data": {
      "text/plain": [
       "{'2P': 2.726578837908756,\n",
       " '2P%': 11.528762210547479,\n",
       " '2PA': 1.5746699823373838,\n",
       " '3P': 40.4192522089193,\n",
       " '3P%': 39.65419609710983,\n",
       " '3PA': 49.15069535694824,\n",
       " 'AST': 53.932264732177,\n",
       " 'Age': 0.6378563107414957,\n",
       " 'BLK': 48.613672126149574,\n",
       " 'DRB': 17.325312810779142,\n",
       " 'FG': 0.9967234596557175,\n",
       " 'FG%': 36.874719487677275,\n",
       " 'FGA': 4.5484464275130865,\n",
       " 'FT': 1.5261559645045448,\n",
       " 'FT%': 6.4527884026407625,\n",
       " 'FTA': 1.3473235673225987,\n",
       " 'G': 0.34560449717897684,\n",
       " 'GS': 0.35543849865659394,\n",
       " 'MP': 3.7131042629977244,\n",
       " 'ORB': 68.76029951926401,\n",
       " 'PF': 4.7320219644673625,\n",
       " 'PS/G': 2.365001959590276,\n",
       " 'STL': 13.64103503164915,\n",
       " 'TOV': 13.565597972414295,\n",
       " 'TRB': 30.970641979746716,\n",
       " 'eFG%': 9.19774321759613}"
      ]
     },
     "execution_count": 12,
     "metadata": {},
     "output_type": "execute_result"
    }
   ],
   "source": [
    "from sklearn.feature_selection import SelectKBest\n",
    "\n",
    "test = SelectKBest()\n",
    "select = test.fit(data1, data['Pos'])\n",
    "scores = {data1.columns[i]: select.scores_[i] for i in range(len(select.scores_))}\n",
    "scores"
   ]
  },
  {
   "cell_type": "markdown",
   "metadata": {},
   "source": [
    "<i>4. For this problem, use the following set of attributes {2P%, 3P%, FT%, TRB, AST, STL, BLK} to perform k-means clustering with k = {3,5}. Report the centers found for each clusters for each k, distribution of positions in each cluster and your brief observation.</i>"
   ]
  },
  {
   "cell_type": "markdown",
   "metadata": {},
   "source": [
    "Now we can try to use only part of features:"
   ]
  },
  {
   "cell_type": "code",
   "execution_count": 13,
   "metadata": {},
   "outputs": [
    {
     "name": "stdout",
     "output_type": "stream",
     "text": [
      "3 centroids:\n",
      " [[-0.292  0.309  0.078 -0.536 -0.335 -0.417 -0.47 ]\n",
      " [ 0.086  0.49   0.336  0.673  1.112  1.214  0.224]\n",
      " [ 0.655 -1.436 -0.634  0.543 -0.545 -0.46   0.945]]\n",
      "5 centroids:\n",
      " [[ 0.555 -0.765 -0.36   1.792 -0.118  0.24   2.041]\n",
      " [ 0.066 -1.346 -1.236 -0.397 -0.718 -0.759 -0.103]\n",
      " [ 0.014  0.521  0.472  0.461  2.264  1.673  0.043]\n",
      " [-0.313  0.285  0.36  -0.702 -0.492 -0.715 -0.549]\n",
      " [ 0.072  0.47   0.201  0.069  0.157  0.459 -0.188]]\n"
     ]
    }
   ],
   "source": [
    "cols = ['2P%', '3P%', 'FT%', 'TRB', 'AST', 'STL', 'BLK']\n",
    "data2 = data[cols]\n",
    "data2_scaled = scaler.fit_transform(data2)\n",
    "clusters2_3, centroids2_3 = mykmeans(data2_scaled, 3)\n",
    "clusters2_5, centroids2_5 = mykmeans(data2_scaled, 5)\n",
    "print('3 centroids:\\n', centroids2_3)\n",
    "print('5 centroids:\\n', centroids2_5)"
   ]
  },
  {
   "cell_type": "markdown",
   "metadata": {},
   "source": [
    "Lets try once more:"
   ]
  },
  {
   "cell_type": "code",
   "execution_count": 24,
   "metadata": {},
   "outputs": [
    {
     "name": "stdout",
     "output_type": "stream",
     "text": [
      "3 centroids:\n",
      " [[ 0.776 -1.215 -0.514  1.111 -0.4   -0.232  1.433]\n",
      " [ 0.024  0.509  0.354  0.434  1.076  1.153  0.014]\n",
      " [-0.25   0.111 -0.024 -0.563 -0.43  -0.521 -0.446]]\n",
      "5 centroids:\n",
      " [[-1.694e-02  5.503e-01  2.769e-01 -1.108e-01  8.497e-02  2.003e-01\n",
      "  -2.849e-01]\n",
      " [ 5.966e-01 -1.125e+00 -3.878e-01  1.380e+00 -3.244e-01 -9.820e-02\n",
      "   1.628e+00]\n",
      " [ 2.520e-02  4.533e-01  4.028e-01  6.335e-01  1.913e+00  1.736e+00\n",
      "   2.217e-01]\n",
      " [ 3.279e-02 -3.697e-01  4.503e-02 -7.019e-01 -6.661e-01 -8.657e-01\n",
      "  -4.551e-01]\n",
      " [-2.824e+00 -3.723e-04 -3.444e+00 -1.047e+00 -8.376e-01 -8.225e-01\n",
      "  -7.057e-01]]\n"
     ]
    }
   ],
   "source": [
    "clusters2_3, centroids2_3 = mykmeans(data2_scaled, 3)\n",
    "clusters2_5, centroids2_5 = mykmeans(data2_scaled, 5)\n",
    "print('3 centroids:\\n', centroids2_3)\n",
    "print('5 centroids:\\n', centroids2_5)"
   ]
  },
  {
   "cell_type": "code",
   "execution_count": 15,
   "metadata": {},
   "outputs": [
    {
     "data": {
      "text/plain": [
       "1.8200022295142708"
      ]
     },
     "execution_count": 15,
     "metadata": {},
     "output_type": "execute_result"
    }
   ],
   "source": [
    "test_kmeans(data2_scaled, 3, 20)"
   ]
  },
  {
   "cell_type": "code",
   "execution_count": 19,
   "metadata": {},
   "outputs": [
    {
     "data": {
      "text/plain": [
       "2.408225311302254"
      ]
     },
     "execution_count": 19,
     "metadata": {},
     "output_type": "execute_result"
    }
   ],
   "source": [
    "test_kmeans(data2_scaled, 5, 20)"
   ]
  },
  {
   "cell_type": "markdown",
   "metadata": {},
   "source": [
    "This time,  we are still getting different centroids with each run, but now centroids from each run are much closer to each other. It means that removal of unimportant fetures helped to make clusterization more efficient.  \n",
    "Lets compare clusters from last clusterization with k={3,5} and positions of players. To do this, we can count how often positions apear in each cluster and then compute probabilities."
   ]
  },
  {
   "cell_type": "code",
   "execution_count": 25,
   "metadata": {},
   "outputs": [
    {
     "data": {
      "text/plain": [
       "{'C': {0: 55, 1: 5, 2: 29},\n",
       " 'PF': {0: 22, 1: 18, 2: 63},\n",
       " 'PG': {0: 0, 1: 47, 2: 48},\n",
       " 'SF': {0: 3, 1: 30, 2: 59},\n",
       " 'SG': {0: 0, 1: 34, 2: 62}}"
      ]
     },
     "execution_count": 25,
     "metadata": {},
     "output_type": "execute_result"
    }
   ],
   "source": [
    "pos_clusters = {pos:{i:0 for i in range(3)} for pos in set(data['Pos'])}\n",
    "for i in range(len(clusters2_3)):\n",
    "    pos_clusters[data['Pos'][i]][clusters2_3[i]] += 1\n",
    "pos_clusters"
   ]
  },
  {
   "cell_type": "code",
   "execution_count": 26,
   "metadata": {},
   "outputs": [
    {
     "data": {
      "text/plain": [
       "{'C': {0: 0.6875, 1: 0.0373, 2: 0.1111},\n",
       " 'PF': {0: 0.275, 1: 0.1343, 2: 0.2414},\n",
       " 'PG': {0: 0.0, 1: 0.3507, 2: 0.1839},\n",
       " 'SF': {0: 0.0375, 1: 0.2239, 2: 0.2261},\n",
       " 'SG': {0: 0.0, 1: 0.2537, 2: 0.2375}}"
      ]
     },
     "execution_count": 26,
     "metadata": {},
     "output_type": "execute_result"
    }
   ],
   "source": [
    "s = [0 for i in range(3)]\n",
    "for pos in pos_clusters:\n",
    "    for i in pos_clusters[pos]:\n",
    "        s[i] += pos_clusters[pos][i]\n",
    "for pos in pos_clusters:\n",
    "    for i in pos_clusters[pos]:\n",
    "        pos_clusters[pos][i] /= s[i]\n",
    "        pos_clusters[pos][i] = round(pos_clusters[pos][i], 4)\n",
    "pos_clusters"
   ]
  },
  {
   "cell_type": "code",
   "execution_count": 27,
   "metadata": {},
   "outputs": [
    {
     "data": {
      "text/plain": [
       "{'C': {0: 7, 1: 48, 2: 3, 3: 31, 4: 0},\n",
       " 'PF': {0: 36, 1: 21, 2: 4, 3: 37, 4: 5},\n",
       " 'PG': {0: 45, 1: 0, 2: 30, 3: 18, 4: 2},\n",
       " 'SF': {0: 44, 1: 2, 2: 11, 3: 29, 4: 6},\n",
       " 'SG': {0: 58, 1: 0, 2: 11, 3: 24, 4: 3}}"
      ]
     },
     "execution_count": 27,
     "metadata": {},
     "output_type": "execute_result"
    }
   ],
   "source": [
    "pos_clusters = {pos:{i:0 for i in range(5)} for pos in set(data['Pos'])}\n",
    "for i in range(len(clusters2_5)):\n",
    "    pos_clusters[data['Pos'][i]][clusters2_5[i]] += 1\n",
    "pos_clusters"
   ]
  },
  {
   "cell_type": "code",
   "execution_count": 28,
   "metadata": {},
   "outputs": [
    {
     "data": {
      "text/plain": [
       "{'C': {0: 0.0368, 1: 0.6761, 2: 0.0508, 3: 0.223, 4: 0.0},\n",
       " 'PF': {0: 0.1895, 1: 0.2958, 2: 0.0678, 3: 0.2662, 4: 0.3125},\n",
       " 'PG': {0: 0.2368, 1: 0.0, 2: 0.5085, 3: 0.1295, 4: 0.125},\n",
       " 'SF': {0: 0.2316, 1: 0.0282, 2: 0.1864, 3: 0.2086, 4: 0.375},\n",
       " 'SG': {0: 0.3053, 1: 0.0, 2: 0.1864, 3: 0.1727, 4: 0.1875}}"
      ]
     },
     "execution_count": 28,
     "metadata": {},
     "output_type": "execute_result"
    }
   ],
   "source": [
    "s = [0 for i in range(5)]\n",
    "for pos in pos_clusters:\n",
    "    for i in pos_clusters[pos]:\n",
    "        s[i] += pos_clusters[pos][i]\n",
    "for pos in pos_clusters:\n",
    "    for i in pos_clusters[pos]:\n",
    "        pos_clusters[pos][i] /= s[i]\n",
    "        pos_clusters[pos][i] = round(pos_clusters[pos][i], 4)\n",
    "pos_clusters"
   ]
  },
  {
   "cell_type": "markdown",
   "metadata": {},
   "source": [
    "We succesfully divided players into 3 and 5 clusters. Our clusters do not fully match distribution of positions of players. But there seems to be some relationship between k-means clusterization and positions of players.  \n",
    "For example, when the number of clusters k=3, we can conclude that if the player was assigned to cluster 1, then it's less likely that this player takes a position in center or in power forward. If the player was assigned to cluster 0, it's most likely that this player takes a position in center and almost definitely that this player does not take a position in small forward, shooting guard or point guard.  \n",
    "When the number of clusters k=5, then if the player belongs to cluster 1, there is 37.5% probability that this player takes position in small forward and 0% probability for center position. If player's cluster is 1, we can almost definitely say that this player does not take position in small forward, shooting guard or point guard. If player's cluster is 2, there is 50% probability that this player takes position in point guard."
   ]
  },
  {
   "cell_type": "markdown",
   "metadata": {},
   "source": [
    "## Problem 2"
   ]
  },
  {
   "cell_type": "markdown",
   "metadata": {},
   "source": [
    "<i>1. Write a function class = myknn(X, test, k) that performs k-nearest neighbor (k-NN) classification where X ∈Rn×p (n number of objects and p number of attributes) is training data, test is testing data, and k is a user parameter.</i>"
   ]
  },
  {
   "cell_type": "markdown",
   "metadata": {},
   "source": [
    "Implementation of the K nearest neighbors algorithm:"
   ]
  },
  {
   "cell_type": "code",
   "execution_count": 29,
   "metadata": {},
   "outputs": [],
   "source": [
    "def get_neighbors(X, test_inst, k, labels):\n",
    "    distances = []\n",
    "    for i in range(len(X)):\n",
    "        # Calculate distances from test point to each point of train set\n",
    "        dist = np.linalg.norm(test_inst-X[i])\n",
    "        distances.append((X[i], dist, labels[i]))\n",
    "    distances.sort(key=lambda x: x[1])\n",
    "    # Get k nearest train points to the datapoint\n",
    "    neighbors = distances[:k]\n",
    "    return neighbors"
   ]
  },
  {
   "cell_type": "code",
   "execution_count": 30,
   "metadata": {},
   "outputs": [],
   "source": [
    "def myknn(X, test, k, labels):\n",
    "    res = []\n",
    "    # For each point in test set, assign label based on it's neighbors\n",
    "    for i in range(len(test)):\n",
    "        counter = Counter()\n",
    "        neighbors = get_neighbors(X, test[i], k, labels)\n",
    "        for n in neighbors:\n",
    "            counter[n[2]] += 1\n",
    "        res.append(counter.most_common(1)[0][0])\n",
    "    return res"
   ]
  },
  {
   "cell_type": "markdown",
   "metadata": {},
   "source": [
    "Function to measure accuracy of the K nearest neighbors algorithm:"
   ]
  },
  {
   "cell_type": "code",
   "execution_count": 31,
   "metadata": {},
   "outputs": [],
   "source": [
    "def accuracy_myknn(knn_labels, orig_labels):\n",
    "    return sum([1 for i in range(len(knn_labels)) \n",
    "                if knn_labels[i]==orig_labels[i]])/len(knn_labels)"
   ]
  },
  {
   "cell_type": "markdown",
   "metadata": {},
   "source": [
    "<i>2. For this problem, use all features except team. Use your k-NN code to perform classification.\n",
    "Set k = {1,5,10,30} and report their accuracies and your observation.</i>"
   ]
  },
  {
   "cell_type": "markdown",
   "metadata": {},
   "source": [
    "Split data into train and test sets and run the algorithm for k={1,5,10,30}:"
   ]
  },
  {
   "cell_type": "code",
   "execution_count": 32,
   "metadata": {},
   "outputs": [],
   "source": [
    "train_data1 = data1_scaled[:375]\n",
    "test_data1 = data1_scaled[375:]\n",
    "test_labels = data['Pos'][375:]\n",
    "\n",
    "knn_labels1_1 = myknn(train_data1, test_data1, 1, data['Pos'])\n",
    "knn_labels1_5 = myknn(train_data1, test_data1, 5, data['Pos'])\n",
    "knn_labels1_10 = myknn(train_data1, test_data1, 10, data['Pos'])\n",
    "knn_labels1_30 = myknn(train_data1, test_data1, 30, data['Pos'])"
   ]
  },
  {
   "cell_type": "markdown",
   "metadata": {},
   "source": [
    "Now we can measure accuracy for each value of k:"
   ]
  },
  {
   "cell_type": "code",
   "execution_count": 33,
   "metadata": {},
   "outputs": [
    {
     "data": {
      "text/plain": [
       "0.51"
      ]
     },
     "execution_count": 33,
     "metadata": {},
     "output_type": "execute_result"
    }
   ],
   "source": [
    "accuracy_myknn(knn_labels1_1, test_labels)"
   ]
  },
  {
   "cell_type": "code",
   "execution_count": 34,
   "metadata": {},
   "outputs": [
    {
     "data": {
      "text/plain": [
       "0.53"
      ]
     },
     "execution_count": 34,
     "metadata": {},
     "output_type": "execute_result"
    }
   ],
   "source": [
    "accuracy_myknn(knn_labels1_5, test_labels)"
   ]
  },
  {
   "cell_type": "code",
   "execution_count": 35,
   "metadata": {},
   "outputs": [
    {
     "data": {
      "text/plain": [
       "0.52"
      ]
     },
     "execution_count": 35,
     "metadata": {},
     "output_type": "execute_result"
    }
   ],
   "source": [
    "accuracy_myknn(knn_labels1_10, test_labels)"
   ]
  },
  {
   "cell_type": "code",
   "execution_count": 36,
   "metadata": {},
   "outputs": [
    {
     "data": {
      "text/plain": [
       "0.56"
      ]
     },
     "execution_count": 36,
     "metadata": {},
     "output_type": "execute_result"
    }
   ],
   "source": [
    "accuracy_myknn(knn_labels1_30, test_labels)"
   ]
  },
  {
   "cell_type": "markdown",
   "metadata": {},
   "source": [
    "It seems like with increasing number of neighbors, we are getting better accuracy. Maximum accuracy that was reached is 56% when the number of neighbors is 30."
   ]
  },
  {
   "cell_type": "markdown",
   "metadata": {},
   "source": [
    "Also we can calculate accuracies for all numbers of neighbors from 1 to 50 and find out what number of neighbors can give us best accuracy:"
   ]
  },
  {
   "cell_type": "code",
   "execution_count": 37,
   "metadata": {},
   "outputs": [],
   "source": [
    "test = [accuracy_myknn(myknn(train_data1, test_data1, i, data['Pos']), test_labels) for i in range(1,50)]"
   ]
  },
  {
   "cell_type": "code",
   "execution_count": 38,
   "metadata": {},
   "outputs": [
    {
     "data": {
      "text/plain": [
       "0.57"
      ]
     },
     "execution_count": 38,
     "metadata": {},
     "output_type": "execute_result"
    }
   ],
   "source": [
    "max(test)"
   ]
  },
  {
   "cell_type": "code",
   "execution_count": 39,
   "metadata": {},
   "outputs": [
    {
     "data": {
      "text/plain": [
       "18"
      ]
     },
     "execution_count": 39,
     "metadata": {},
     "output_type": "execute_result"
    }
   ],
   "source": [
    "test.index(max(test))"
   ]
  },
  {
   "cell_type": "markdown",
   "metadata": {},
   "source": [
    "Lets visualize the dependency of accuracy from number of neighbors:"
   ]
  },
  {
   "cell_type": "code",
   "execution_count": 40,
   "metadata": {},
   "outputs": [
    {
     "data": {
      "image/png": "[encoded data removed]",
      "text/plain": [
       "<Figure size 432x288 with 1 Axes>"
      ]
     },
     "metadata": {},
     "output_type": "display_data"
    }
   ],
   "source": [
    "plt.plot(range(1,50), test)\n",
    "plt.show()"
   ]
  },
  {
   "cell_type": "markdown",
   "metadata": {},
   "source": [
    "We were able to reach maximum accuracy of 57% when number of neighbors is 18.  \n",
    "There is no visible dependency of accuracy from number of neighbors, except that with number of neighbors bigger than 30 accuracy begins to fall down."
   ]
  },
  {
   "cell_type": "markdown",
   "metadata": {},
   "source": [
    "<i>3. For this problem, use the following set of attributes {2P%, 3P%, FT%, TRB, AST, STL, BLK} to perform k-NN classification with k = {1,5,10,30}. Report accuracies for each k and your observation.</i>"
   ]
  },
  {
   "cell_type": "markdown",
   "metadata": {},
   "source": [
    "Now we can try to use the algorithm on reduced dataset:"
   ]
  },
  {
   "cell_type": "code",
   "execution_count": 41,
   "metadata": {},
   "outputs": [],
   "source": [
    "train_data2 = data2_scaled[:375]\n",
    "test_data2 = data2_scaled[375:]\n",
    "knn_labels2_1 = myknn(train_data2, test_data2, 1, data['Pos'])\n",
    "knn_labels2_5 = myknn(train_data2, test_data2, 5, data['Pos'])\n",
    "knn_labels2_10 = myknn(train_data2, test_data2, 10, data['Pos'])\n",
    "knn_labels2_30 = myknn(train_data2, test_data2, 30, data['Pos'])"
   ]
  },
  {
   "cell_type": "code",
   "execution_count": 42,
   "metadata": {},
   "outputs": [
    {
     "data": {
      "text/plain": [
       "0.52"
      ]
     },
     "execution_count": 42,
     "metadata": {},
     "output_type": "execute_result"
    }
   ],
   "source": [
    "accuracy_myknn(knn_labels2_1, test_labels)"
   ]
  },
  {
   "cell_type": "code",
   "execution_count": 43,
   "metadata": {},
   "outputs": [
    {
     "data": {
      "text/plain": [
       "0.59"
      ]
     },
     "execution_count": 43,
     "metadata": {},
     "output_type": "execute_result"
    }
   ],
   "source": [
    "accuracy_myknn(knn_labels2_5, test_labels)"
   ]
  },
  {
   "cell_type": "code",
   "execution_count": 44,
   "metadata": {},
   "outputs": [
    {
     "data": {
      "text/plain": [
       "0.58"
      ]
     },
     "execution_count": 44,
     "metadata": {},
     "output_type": "execute_result"
    }
   ],
   "source": [
    "accuracy_myknn(knn_labels2_10, test_labels)"
   ]
  },
  {
   "cell_type": "code",
   "execution_count": 45,
   "metadata": {},
   "outputs": [
    {
     "data": {
      "text/plain": [
       "0.63"
      ]
     },
     "execution_count": 45,
     "metadata": {},
     "output_type": "execute_result"
    }
   ],
   "source": [
    "accuracy_myknn(knn_labels2_30, test_labels)"
   ]
  },
  {
   "cell_type": "markdown",
   "metadata": {},
   "source": [
    "It seems that for the K nearest neighbor algorithm, removal of unimportant features helped to improve accuracy of predictions. Maximum accuracy that was reached is 63% when the number of neighbors is 30."
   ]
  },
  {
   "cell_type": "markdown",
   "metadata": {},
   "source": [
    "Now lets calculate accuracies for all numbers of neighbors from 1 to 50 and find out what number of neighbors gives best accuracy:"
   ]
  },
  {
   "cell_type": "code",
   "execution_count": 46,
   "metadata": {},
   "outputs": [],
   "source": [
    "test = [accuracy_myknn(myknn(train_data2, test_data2, i, data['Pos']), test_labels) for i in range(1,50)]"
   ]
  },
  {
   "cell_type": "code",
   "execution_count": 47,
   "metadata": {},
   "outputs": [
    {
     "data": {
      "text/plain": [
       "0.66"
      ]
     },
     "execution_count": 47,
     "metadata": {},
     "output_type": "execute_result"
    }
   ],
   "source": [
    "max(test)"
   ]
  },
  {
   "cell_type": "code",
   "execution_count": 48,
   "metadata": {},
   "outputs": [
    {
     "data": {
      "text/plain": [
       "21"
      ]
     },
     "execution_count": 48,
     "metadata": {},
     "output_type": "execute_result"
    }
   ],
   "source": [
    "test.index(max(test))"
   ]
  },
  {
   "cell_type": "code",
   "execution_count": 49,
   "metadata": {},
   "outputs": [
    {
     "data": {
      "image/png": "[encoded data removed]",
      "text/plain": [
       "<Figure size 432x288 with 1 Axes>"
      ]
     },
     "metadata": {},
     "output_type": "display_data"
    }
   ],
   "source": [
    "plt.plot(range(1,50), test)\n",
    "plt.show()"
   ]
  },
  {
   "cell_type": "markdown",
   "metadata": {},
   "source": [
    "We were able to reach maximum accuracy of 66% when number of neighbors is 21.  \n",
    "There is consistent growth of accuracy with increasing number of neigbors untill peak is reached at 21-25 neighbors. After this peak accuracy begins to fall down."
   ]
  }
 ],
 "metadata": {
  "kernelspec": {
   "display_name": "Python 3",
   "language": "python",
   "name": "python3"
  },
  "language_info": {
   "codemirror_mode": {
    "name": "ipython",
    "version": 3
   },
   "file_extension": ".py",
   "mimetype": "text/x-python",
   "name": "python",
   "nbconvert_exporter": "python",
   "pygments_lexer": "ipython3",
   "version": "3.6.2"
  }
 },
 "nbformat": 4,
 "nbformat_minor": 2
}
